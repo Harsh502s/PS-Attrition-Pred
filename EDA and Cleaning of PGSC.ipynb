{
 "cells": [
  {
   "attachments": {},
   "cell_type": "markdown",
   "id": "7b8ed106-3007-4211-b92f-a3d00dd43339",
   "metadata": {},
   "source": [
    "**EMPLOYEE ATTRITION PREDICTION**"
   ]
  },
  {
   "attachments": {},
   "cell_type": "markdown",
   "id": "47416a6e-7fb4-458a-b1ee-053fb8148dae",
   "metadata": {},
   "source": [
    "Uncover the factors that lead to employee attrition and explore important questions such as ‘show me a breakdown of distance from home by job role and attrition’ or ‘compare average monthly income by education and attrition’. This is a fictional data set created by IBM data scientists.\n",
    "\n",
    "* Education\n",
    "> 1 : 'Below College',\n",
    "> 2 : 'College',\n",
    "> 3 : 'Bachelor',\n",
    "> 4 : 'Master',\n",
    "> 5 : 'Doctor'\n",
    "\n",
    "* EnvironmentSatisfaction\n",
    "> 1 : 'Low',\n",
    "> 2 : 'Medium',\n",
    "> 3 : 'High',\n",
    "> 4 : 'Very High'\n",
    "\n",
    "* JobInvolvement\n",
    "> 1 : 'Low',\n",
    "> 2 : 'Medium',\n",
    "> 3 : 'High',\n",
    "> 4 : 'Very High'\n",
    "\n",
    "* JobSatisfaction\n",
    "> 1 : 'Low',\n",
    "> 2 : 'Medium',\n",
    "> 3 : 'High',\n",
    "> 4 : 'Very High'\n",
    "\n",
    "* PerformanceRating\n",
    "> 1 : 'Low',\n",
    "> 2 : 'Good',\n",
    "> 3 : 'Excellent',\n",
    "> 4 : 'Outstanding'\n",
    "\n",
    "* RelationshipSatisfaction\n",
    "> 1 : 'Low',\n",
    "> 2 : 'Medium',\n",
    "> 3 : 'High',\n",
    "> 4 : 'Very High'\n",
    "\n",
    "* WorkLifeBalance\n",
    "> 1 : 'Bad',\n",
    "> 2 : 'Good',\n",
    "> 3 : 'Better',\n",
    "> 4 : 'Best'"
   ]
  },
  {
   "attachments": {},
   "cell_type": "markdown",
   "id": "0935e8cd-0141-482b-bf00-d7db1f15094c",
   "metadata": {},
   "source": [
    "# Importing Libraries"
   ]
  },
  {
   "cell_type": "code",
   "execution_count": 2,
   "id": "542a7de5-9406-4a9d-924f-e2734dc725a0",
   "metadata": {
    "tags": []
   },
   "outputs": [],
   "source": [
    "import pandas as pd\n",
    "import numpy as np\n",
    "import matplotlib.pyplot as plt\n",
    "import seaborn as sns\n",
    "import warnings as w\n",
    "\n",
    "w.filterwarnings(\"ignore\")"
   ]
  },
  {
   "cell_type": "code",
   "execution_count": 3,
   "id": "5409dca7-3622-442f-aa45-420c7b3193fe",
   "metadata": {
    "tags": []
   },
   "outputs": [],
   "source": [
    "pd.set_option(\"display.max_columns\", None)\n",
    "pd.set_option(\"display.float_format\", lambda x: \"%.2f\" % x)"
   ]
  },
  {
   "attachments": {},
   "cell_type": "markdown",
   "id": "1ccf1094-e007-4183-ab9c-56511b69dd7d",
   "metadata": {},
   "source": [
    "# Reading Train Data Set"
   ]
  },
  {
   "cell_type": "code",
   "execution_count": 4,
   "id": "375ef04b-6c03-4121-8bbd-72bad9d101a8",
   "metadata": {
    "tags": []
   },
   "outputs": [],
   "source": [
    "df = pd.read_csv(\"train.csv\")\n",
    "df.drop(\"id\", axis=1, inplace=True)\n",
    "original_df = pd.read_csv(\"original_data.csv\")\n",
    "original_df.drop(\"EmployeeNumber\", axis=1, inplace=True)"
   ]
  },
  {
   "cell_type": "code",
   "execution_count": 283,
   "id": "d5b193fc-b4e4-4117-9269-0469aff6154d",
   "metadata": {
    "tags": []
   },
   "outputs": [
    {
     "data": {
      "text/html": [
       "<div>\n",
       "<style scoped>\n",
       "    .dataframe tbody tr th:only-of-type {\n",
       "        vertical-align: middle;\n",
       "    }\n",
       "\n",
       "    .dataframe tbody tr th {\n",
       "        vertical-align: top;\n",
       "    }\n",
       "\n",
       "    .dataframe thead th {\n",
       "        text-align: right;\n",
       "    }\n",
       "</style>\n",
       "<table border=\"1\" class=\"dataframe\">\n",
       "  <thead>\n",
       "    <tr style=\"text-align: right;\">\n",
       "      <th></th>\n",
       "      <th>Age</th>\n",
       "      <th>BusinessTravel</th>\n",
       "      <th>DailyRate</th>\n",
       "      <th>Department</th>\n",
       "      <th>DistanceFromHome</th>\n",
       "      <th>Education</th>\n",
       "      <th>EducationField</th>\n",
       "      <th>EmployeeCount</th>\n",
       "      <th>EnvironmentSatisfaction</th>\n",
       "      <th>Gender</th>\n",
       "      <th>HourlyRate</th>\n",
       "      <th>JobInvolvement</th>\n",
       "      <th>JobLevel</th>\n",
       "      <th>JobRole</th>\n",
       "      <th>JobSatisfaction</th>\n",
       "      <th>MaritalStatus</th>\n",
       "      <th>MonthlyIncome</th>\n",
       "      <th>MonthlyRate</th>\n",
       "      <th>NumCompaniesWorked</th>\n",
       "      <th>Over18</th>\n",
       "      <th>OverTime</th>\n",
       "      <th>PercentSalaryHike</th>\n",
       "      <th>PerformanceRating</th>\n",
       "      <th>RelationshipSatisfaction</th>\n",
       "      <th>StandardHours</th>\n",
       "      <th>StockOptionLevel</th>\n",
       "      <th>TotalWorkingYears</th>\n",
       "      <th>TrainingTimesLastYear</th>\n",
       "      <th>WorkLifeBalance</th>\n",
       "      <th>YearsAtCompany</th>\n",
       "      <th>YearsInCurrentRole</th>\n",
       "      <th>YearsSinceLastPromotion</th>\n",
       "      <th>YearsWithCurrManager</th>\n",
       "      <th>Attrition</th>\n",
       "    </tr>\n",
       "  </thead>\n",
       "  <tbody>\n",
       "    <tr>\n",
       "      <th>0</th>\n",
       "      <td>36</td>\n",
       "      <td>Travel_Frequently</td>\n",
       "      <td>599</td>\n",
       "      <td>Research &amp; Development</td>\n",
       "      <td>24</td>\n",
       "      <td>3</td>\n",
       "      <td>Medical</td>\n",
       "      <td>1</td>\n",
       "      <td>4</td>\n",
       "      <td>Male</td>\n",
       "      <td>42</td>\n",
       "      <td>3</td>\n",
       "      <td>1</td>\n",
       "      <td>Laboratory Technician</td>\n",
       "      <td>4</td>\n",
       "      <td>Married</td>\n",
       "      <td>2596</td>\n",
       "      <td>5099</td>\n",
       "      <td>1</td>\n",
       "      <td>Y</td>\n",
       "      <td>Yes</td>\n",
       "      <td>13</td>\n",
       "      <td>3</td>\n",
       "      <td>2</td>\n",
       "      <td>80</td>\n",
       "      <td>1</td>\n",
       "      <td>10</td>\n",
       "      <td>2</td>\n",
       "      <td>3</td>\n",
       "      <td>10</td>\n",
       "      <td>0</td>\n",
       "      <td>7</td>\n",
       "      <td>8</td>\n",
       "      <td>0</td>\n",
       "    </tr>\n",
       "    <tr>\n",
       "      <th>1</th>\n",
       "      <td>35</td>\n",
       "      <td>Travel_Rarely</td>\n",
       "      <td>921</td>\n",
       "      <td>Sales</td>\n",
       "      <td>8</td>\n",
       "      <td>3</td>\n",
       "      <td>Other</td>\n",
       "      <td>1</td>\n",
       "      <td>1</td>\n",
       "      <td>Male</td>\n",
       "      <td>46</td>\n",
       "      <td>3</td>\n",
       "      <td>1</td>\n",
       "      <td>Sales Representative</td>\n",
       "      <td>1</td>\n",
       "      <td>Married</td>\n",
       "      <td>2899</td>\n",
       "      <td>10778</td>\n",
       "      <td>1</td>\n",
       "      <td>Y</td>\n",
       "      <td>No</td>\n",
       "      <td>17</td>\n",
       "      <td>3</td>\n",
       "      <td>4</td>\n",
       "      <td>80</td>\n",
       "      <td>1</td>\n",
       "      <td>4</td>\n",
       "      <td>3</td>\n",
       "      <td>3</td>\n",
       "      <td>4</td>\n",
       "      <td>2</td>\n",
       "      <td>0</td>\n",
       "      <td>3</td>\n",
       "      <td>0</td>\n",
       "    </tr>\n",
       "    <tr>\n",
       "      <th>2</th>\n",
       "      <td>32</td>\n",
       "      <td>Travel_Rarely</td>\n",
       "      <td>718</td>\n",
       "      <td>Sales</td>\n",
       "      <td>26</td>\n",
       "      <td>3</td>\n",
       "      <td>Marketing</td>\n",
       "      <td>1</td>\n",
       "      <td>3</td>\n",
       "      <td>Male</td>\n",
       "      <td>80</td>\n",
       "      <td>3</td>\n",
       "      <td>2</td>\n",
       "      <td>Sales Executive</td>\n",
       "      <td>4</td>\n",
       "      <td>Divorced</td>\n",
       "      <td>4627</td>\n",
       "      <td>16495</td>\n",
       "      <td>0</td>\n",
       "      <td>Y</td>\n",
       "      <td>No</td>\n",
       "      <td>17</td>\n",
       "      <td>3</td>\n",
       "      <td>4</td>\n",
       "      <td>80</td>\n",
       "      <td>2</td>\n",
       "      <td>4</td>\n",
       "      <td>3</td>\n",
       "      <td>3</td>\n",
       "      <td>3</td>\n",
       "      <td>2</td>\n",
       "      <td>1</td>\n",
       "      <td>2</td>\n",
       "      <td>0</td>\n",
       "    </tr>\n",
       "    <tr>\n",
       "      <th>3</th>\n",
       "      <td>38</td>\n",
       "      <td>Travel_Rarely</td>\n",
       "      <td>1488</td>\n",
       "      <td>Research &amp; Development</td>\n",
       "      <td>2</td>\n",
       "      <td>3</td>\n",
       "      <td>Medical</td>\n",
       "      <td>1</td>\n",
       "      <td>3</td>\n",
       "      <td>Female</td>\n",
       "      <td>40</td>\n",
       "      <td>3</td>\n",
       "      <td>2</td>\n",
       "      <td>Healthcare Representative</td>\n",
       "      <td>1</td>\n",
       "      <td>Married</td>\n",
       "      <td>5347</td>\n",
       "      <td>13384</td>\n",
       "      <td>3</td>\n",
       "      <td>Y</td>\n",
       "      <td>No</td>\n",
       "      <td>14</td>\n",
       "      <td>3</td>\n",
       "      <td>3</td>\n",
       "      <td>80</td>\n",
       "      <td>0</td>\n",
       "      <td>15</td>\n",
       "      <td>1</td>\n",
       "      <td>1</td>\n",
       "      <td>6</td>\n",
       "      <td>0</td>\n",
       "      <td>0</td>\n",
       "      <td>2</td>\n",
       "      <td>0</td>\n",
       "    </tr>\n",
       "    <tr>\n",
       "      <th>4</th>\n",
       "      <td>50</td>\n",
       "      <td>Travel_Rarely</td>\n",
       "      <td>1017</td>\n",
       "      <td>Research &amp; Development</td>\n",
       "      <td>5</td>\n",
       "      <td>4</td>\n",
       "      <td>Medical</td>\n",
       "      <td>1</td>\n",
       "      <td>2</td>\n",
       "      <td>Female</td>\n",
       "      <td>37</td>\n",
       "      <td>3</td>\n",
       "      <td>5</td>\n",
       "      <td>Manager</td>\n",
       "      <td>1</td>\n",
       "      <td>Single</td>\n",
       "      <td>19033</td>\n",
       "      <td>19805</td>\n",
       "      <td>1</td>\n",
       "      <td>Y</td>\n",
       "      <td>Yes</td>\n",
       "      <td>13</td>\n",
       "      <td>3</td>\n",
       "      <td>3</td>\n",
       "      <td>80</td>\n",
       "      <td>0</td>\n",
       "      <td>31</td>\n",
       "      <td>0</td>\n",
       "      <td>3</td>\n",
       "      <td>31</td>\n",
       "      <td>14</td>\n",
       "      <td>4</td>\n",
       "      <td>10</td>\n",
       "      <td>1</td>\n",
       "    </tr>\n",
       "  </tbody>\n",
       "</table>\n",
       "</div>"
      ],
      "text/plain": [
       "   Age     BusinessTravel  DailyRate              Department  \\\n",
       "0   36  Travel_Frequently        599  Research & Development   \n",
       "1   35      Travel_Rarely        921                   Sales   \n",
       "2   32      Travel_Rarely        718                   Sales   \n",
       "3   38      Travel_Rarely       1488  Research & Development   \n",
       "4   50      Travel_Rarely       1017  Research & Development   \n",
       "\n",
       "   DistanceFromHome  Education EducationField  EmployeeCount  \\\n",
       "0                24          3        Medical              1   \n",
       "1                 8          3          Other              1   \n",
       "2                26          3      Marketing              1   \n",
       "3                 2          3        Medical              1   \n",
       "4                 5          4        Medical              1   \n",
       "\n",
       "   EnvironmentSatisfaction  Gender  HourlyRate  JobInvolvement  JobLevel  \\\n",
       "0                        4    Male          42               3         1   \n",
       "1                        1    Male          46               3         1   \n",
       "2                        3    Male          80               3         2   \n",
       "3                        3  Female          40               3         2   \n",
       "4                        2  Female          37               3         5   \n",
       "\n",
       "                     JobRole  JobSatisfaction MaritalStatus  MonthlyIncome  \\\n",
       "0      Laboratory Technician                4       Married           2596   \n",
       "1       Sales Representative                1       Married           2899   \n",
       "2            Sales Executive                4      Divorced           4627   \n",
       "3  Healthcare Representative                1       Married           5347   \n",
       "4                    Manager                1        Single          19033   \n",
       "\n",
       "   MonthlyRate  NumCompaniesWorked Over18 OverTime  PercentSalaryHike  \\\n",
       "0         5099                   1      Y      Yes                 13   \n",
       "1        10778                   1      Y       No                 17   \n",
       "2        16495                   0      Y       No                 17   \n",
       "3        13384                   3      Y       No                 14   \n",
       "4        19805                   1      Y      Yes                 13   \n",
       "\n",
       "   PerformanceRating  RelationshipSatisfaction  StandardHours  \\\n",
       "0                  3                         2             80   \n",
       "1                  3                         4             80   \n",
       "2                  3                         4             80   \n",
       "3                  3                         3             80   \n",
       "4                  3                         3             80   \n",
       "\n",
       "   StockOptionLevel  TotalWorkingYears  TrainingTimesLastYear  \\\n",
       "0                 1                 10                      2   \n",
       "1                 1                  4                      3   \n",
       "2                 2                  4                      3   \n",
       "3                 0                 15                      1   \n",
       "4                 0                 31                      0   \n",
       "\n",
       "   WorkLifeBalance  YearsAtCompany  YearsInCurrentRole  \\\n",
       "0                3              10                   0   \n",
       "1                3               4                   2   \n",
       "2                3               3                   2   \n",
       "3                1               6                   0   \n",
       "4                3              31                  14   \n",
       "\n",
       "   YearsSinceLastPromotion  YearsWithCurrManager  Attrition  \n",
       "0                        7                     8          0  \n",
       "1                        0                     3          0  \n",
       "2                        1                     2          0  \n",
       "3                        0                     2          0  \n",
       "4                        4                    10          1  "
      ]
     },
     "execution_count": 283,
     "metadata": {},
     "output_type": "execute_result"
    }
   ],
   "source": [
    "df.head()\n"
   ]
  },
  {
   "cell_type": "code",
   "execution_count": 284,
   "id": "2722be25",
   "metadata": {},
   "outputs": [
    {
     "data": {
      "text/html": [
       "<div>\n",
       "<style scoped>\n",
       "    .dataframe tbody tr th:only-of-type {\n",
       "        vertical-align: middle;\n",
       "    }\n",
       "\n",
       "    .dataframe tbody tr th {\n",
       "        vertical-align: top;\n",
       "    }\n",
       "\n",
       "    .dataframe thead th {\n",
       "        text-align: right;\n",
       "    }\n",
       "</style>\n",
       "<table border=\"1\" class=\"dataframe\">\n",
       "  <thead>\n",
       "    <tr style=\"text-align: right;\">\n",
       "      <th></th>\n",
       "      <th>Age</th>\n",
       "      <th>Attrition</th>\n",
       "      <th>BusinessTravel</th>\n",
       "      <th>DailyRate</th>\n",
       "      <th>Department</th>\n",
       "      <th>DistanceFromHome</th>\n",
       "      <th>Education</th>\n",
       "      <th>EducationField</th>\n",
       "      <th>EmployeeCount</th>\n",
       "      <th>EnvironmentSatisfaction</th>\n",
       "      <th>Gender</th>\n",
       "      <th>HourlyRate</th>\n",
       "      <th>JobInvolvement</th>\n",
       "      <th>JobLevel</th>\n",
       "      <th>JobRole</th>\n",
       "      <th>JobSatisfaction</th>\n",
       "      <th>MaritalStatus</th>\n",
       "      <th>MonthlyIncome</th>\n",
       "      <th>MonthlyRate</th>\n",
       "      <th>NumCompaniesWorked</th>\n",
       "      <th>Over18</th>\n",
       "      <th>OverTime</th>\n",
       "      <th>PercentSalaryHike</th>\n",
       "      <th>PerformanceRating</th>\n",
       "      <th>RelationshipSatisfaction</th>\n",
       "      <th>StandardHours</th>\n",
       "      <th>StockOptionLevel</th>\n",
       "      <th>TotalWorkingYears</th>\n",
       "      <th>TrainingTimesLastYear</th>\n",
       "      <th>WorkLifeBalance</th>\n",
       "      <th>YearsAtCompany</th>\n",
       "      <th>YearsInCurrentRole</th>\n",
       "      <th>YearsSinceLastPromotion</th>\n",
       "      <th>YearsWithCurrManager</th>\n",
       "    </tr>\n",
       "  </thead>\n",
       "  <tbody>\n",
       "    <tr>\n",
       "      <th>0</th>\n",
       "      <td>41</td>\n",
       "      <td>Yes</td>\n",
       "      <td>Travel_Rarely</td>\n",
       "      <td>1102</td>\n",
       "      <td>Sales</td>\n",
       "      <td>1</td>\n",
       "      <td>2</td>\n",
       "      <td>Life Sciences</td>\n",
       "      <td>1</td>\n",
       "      <td>2</td>\n",
       "      <td>Female</td>\n",
       "      <td>94</td>\n",
       "      <td>3</td>\n",
       "      <td>2</td>\n",
       "      <td>Sales Executive</td>\n",
       "      <td>4</td>\n",
       "      <td>Single</td>\n",
       "      <td>5993</td>\n",
       "      <td>19479</td>\n",
       "      <td>8</td>\n",
       "      <td>Y</td>\n",
       "      <td>Yes</td>\n",
       "      <td>11</td>\n",
       "      <td>3</td>\n",
       "      <td>1</td>\n",
       "      <td>80</td>\n",
       "      <td>0</td>\n",
       "      <td>8</td>\n",
       "      <td>0</td>\n",
       "      <td>1</td>\n",
       "      <td>6</td>\n",
       "      <td>4</td>\n",
       "      <td>0</td>\n",
       "      <td>5</td>\n",
       "    </tr>\n",
       "    <tr>\n",
       "      <th>1</th>\n",
       "      <td>49</td>\n",
       "      <td>No</td>\n",
       "      <td>Travel_Frequently</td>\n",
       "      <td>279</td>\n",
       "      <td>Research &amp; Development</td>\n",
       "      <td>8</td>\n",
       "      <td>1</td>\n",
       "      <td>Life Sciences</td>\n",
       "      <td>1</td>\n",
       "      <td>3</td>\n",
       "      <td>Male</td>\n",
       "      <td>61</td>\n",
       "      <td>2</td>\n",
       "      <td>2</td>\n",
       "      <td>Research Scientist</td>\n",
       "      <td>2</td>\n",
       "      <td>Married</td>\n",
       "      <td>5130</td>\n",
       "      <td>24907</td>\n",
       "      <td>1</td>\n",
       "      <td>Y</td>\n",
       "      <td>No</td>\n",
       "      <td>23</td>\n",
       "      <td>4</td>\n",
       "      <td>4</td>\n",
       "      <td>80</td>\n",
       "      <td>1</td>\n",
       "      <td>10</td>\n",
       "      <td>3</td>\n",
       "      <td>3</td>\n",
       "      <td>10</td>\n",
       "      <td>7</td>\n",
       "      <td>1</td>\n",
       "      <td>7</td>\n",
       "    </tr>\n",
       "    <tr>\n",
       "      <th>2</th>\n",
       "      <td>37</td>\n",
       "      <td>Yes</td>\n",
       "      <td>Travel_Rarely</td>\n",
       "      <td>1373</td>\n",
       "      <td>Research &amp; Development</td>\n",
       "      <td>2</td>\n",
       "      <td>2</td>\n",
       "      <td>Other</td>\n",
       "      <td>1</td>\n",
       "      <td>4</td>\n",
       "      <td>Male</td>\n",
       "      <td>92</td>\n",
       "      <td>2</td>\n",
       "      <td>1</td>\n",
       "      <td>Laboratory Technician</td>\n",
       "      <td>3</td>\n",
       "      <td>Single</td>\n",
       "      <td>2090</td>\n",
       "      <td>2396</td>\n",
       "      <td>6</td>\n",
       "      <td>Y</td>\n",
       "      <td>Yes</td>\n",
       "      <td>15</td>\n",
       "      <td>3</td>\n",
       "      <td>2</td>\n",
       "      <td>80</td>\n",
       "      <td>0</td>\n",
       "      <td>7</td>\n",
       "      <td>3</td>\n",
       "      <td>3</td>\n",
       "      <td>0</td>\n",
       "      <td>0</td>\n",
       "      <td>0</td>\n",
       "      <td>0</td>\n",
       "    </tr>\n",
       "    <tr>\n",
       "      <th>3</th>\n",
       "      <td>33</td>\n",
       "      <td>No</td>\n",
       "      <td>Travel_Frequently</td>\n",
       "      <td>1392</td>\n",
       "      <td>Research &amp; Development</td>\n",
       "      <td>3</td>\n",
       "      <td>4</td>\n",
       "      <td>Life Sciences</td>\n",
       "      <td>1</td>\n",
       "      <td>4</td>\n",
       "      <td>Female</td>\n",
       "      <td>56</td>\n",
       "      <td>3</td>\n",
       "      <td>1</td>\n",
       "      <td>Research Scientist</td>\n",
       "      <td>3</td>\n",
       "      <td>Married</td>\n",
       "      <td>2909</td>\n",
       "      <td>23159</td>\n",
       "      <td>1</td>\n",
       "      <td>Y</td>\n",
       "      <td>Yes</td>\n",
       "      <td>11</td>\n",
       "      <td>3</td>\n",
       "      <td>3</td>\n",
       "      <td>80</td>\n",
       "      <td>0</td>\n",
       "      <td>8</td>\n",
       "      <td>3</td>\n",
       "      <td>3</td>\n",
       "      <td>8</td>\n",
       "      <td>7</td>\n",
       "      <td>3</td>\n",
       "      <td>0</td>\n",
       "    </tr>\n",
       "    <tr>\n",
       "      <th>4</th>\n",
       "      <td>27</td>\n",
       "      <td>No</td>\n",
       "      <td>Travel_Rarely</td>\n",
       "      <td>591</td>\n",
       "      <td>Research &amp; Development</td>\n",
       "      <td>2</td>\n",
       "      <td>1</td>\n",
       "      <td>Medical</td>\n",
       "      <td>1</td>\n",
       "      <td>1</td>\n",
       "      <td>Male</td>\n",
       "      <td>40</td>\n",
       "      <td>3</td>\n",
       "      <td>1</td>\n",
       "      <td>Laboratory Technician</td>\n",
       "      <td>2</td>\n",
       "      <td>Married</td>\n",
       "      <td>3468</td>\n",
       "      <td>16632</td>\n",
       "      <td>9</td>\n",
       "      <td>Y</td>\n",
       "      <td>No</td>\n",
       "      <td>12</td>\n",
       "      <td>3</td>\n",
       "      <td>4</td>\n",
       "      <td>80</td>\n",
       "      <td>1</td>\n",
       "      <td>6</td>\n",
       "      <td>3</td>\n",
       "      <td>3</td>\n",
       "      <td>2</td>\n",
       "      <td>2</td>\n",
       "      <td>2</td>\n",
       "      <td>2</td>\n",
       "    </tr>\n",
       "  </tbody>\n",
       "</table>\n",
       "</div>"
      ],
      "text/plain": [
       "   Age Attrition     BusinessTravel  DailyRate              Department  \\\n",
       "0   41       Yes      Travel_Rarely       1102                   Sales   \n",
       "1   49        No  Travel_Frequently        279  Research & Development   \n",
       "2   37       Yes      Travel_Rarely       1373  Research & Development   \n",
       "3   33        No  Travel_Frequently       1392  Research & Development   \n",
       "4   27        No      Travel_Rarely        591  Research & Development   \n",
       "\n",
       "   DistanceFromHome  Education EducationField  EmployeeCount  \\\n",
       "0                 1          2  Life Sciences              1   \n",
       "1                 8          1  Life Sciences              1   \n",
       "2                 2          2          Other              1   \n",
       "3                 3          4  Life Sciences              1   \n",
       "4                 2          1        Medical              1   \n",
       "\n",
       "   EnvironmentSatisfaction  Gender  HourlyRate  JobInvolvement  JobLevel  \\\n",
       "0                        2  Female          94               3         2   \n",
       "1                        3    Male          61               2         2   \n",
       "2                        4    Male          92               2         1   \n",
       "3                        4  Female          56               3         1   \n",
       "4                        1    Male          40               3         1   \n",
       "\n",
       "                 JobRole  JobSatisfaction MaritalStatus  MonthlyIncome  \\\n",
       "0        Sales Executive                4        Single           5993   \n",
       "1     Research Scientist                2       Married           5130   \n",
       "2  Laboratory Technician                3        Single           2090   \n",
       "3     Research Scientist                3       Married           2909   \n",
       "4  Laboratory Technician                2       Married           3468   \n",
       "\n",
       "   MonthlyRate  NumCompaniesWorked Over18 OverTime  PercentSalaryHike  \\\n",
       "0        19479                   8      Y      Yes                 11   \n",
       "1        24907                   1      Y       No                 23   \n",
       "2         2396                   6      Y      Yes                 15   \n",
       "3        23159                   1      Y      Yes                 11   \n",
       "4        16632                   9      Y       No                 12   \n",
       "\n",
       "   PerformanceRating  RelationshipSatisfaction  StandardHours  \\\n",
       "0                  3                         1             80   \n",
       "1                  4                         4             80   \n",
       "2                  3                         2             80   \n",
       "3                  3                         3             80   \n",
       "4                  3                         4             80   \n",
       "\n",
       "   StockOptionLevel  TotalWorkingYears  TrainingTimesLastYear  \\\n",
       "0                 0                  8                      0   \n",
       "1                 1                 10                      3   \n",
       "2                 0                  7                      3   \n",
       "3                 0                  8                      3   \n",
       "4                 1                  6                      3   \n",
       "\n",
       "   WorkLifeBalance  YearsAtCompany  YearsInCurrentRole  \\\n",
       "0                1               6                   4   \n",
       "1                3              10                   7   \n",
       "2                3               0                   0   \n",
       "3                3               8                   7   \n",
       "4                3               2                   2   \n",
       "\n",
       "   YearsSinceLastPromotion  YearsWithCurrManager  \n",
       "0                        0                     5  \n",
       "1                        1                     7  \n",
       "2                        0                     0  \n",
       "3                        3                     0  \n",
       "4                        2                     2  "
      ]
     },
     "execution_count": 284,
     "metadata": {},
     "output_type": "execute_result"
    }
   ],
   "source": [
    "original_df.head()\n"
   ]
  },
  {
   "cell_type": "code",
   "execution_count": null,
   "id": "d6d0711a-70de-4e75-879b-005806ada171",
   "metadata": {
    "tags": []
   },
   "outputs": [],
   "source": [
    "df.describe()\n"
   ]
  },
  {
   "cell_type": "code",
   "execution_count": null,
   "id": "8d6fd534",
   "metadata": {},
   "outputs": [],
   "source": [
    "original_df.describe()\n"
   ]
  },
  {
   "cell_type": "code",
   "execution_count": null,
   "id": "cf3f89af-370f-4b85-b94e-f83db58d2101",
   "metadata": {
    "tags": []
   },
   "outputs": [],
   "source": [
    "df.info()\n"
   ]
  },
  {
   "cell_type": "code",
   "execution_count": null,
   "id": "99d18203",
   "metadata": {},
   "outputs": [],
   "source": [
    "original_df.info()\n"
   ]
  },
  {
   "cell_type": "code",
   "execution_count": null,
   "id": "52feda67-a55b-4764-8ec3-3a59b61b6b8e",
   "metadata": {
    "tags": []
   },
   "outputs": [],
   "source": [
    "import missingno as msn\n",
    "\n",
    "msn.matrix(df)"
   ]
  },
  {
   "cell_type": "code",
   "execution_count": null,
   "id": "c4d8bbd1",
   "metadata": {},
   "outputs": [],
   "source": [
    "msn.matrix(original_df)\n"
   ]
  },
  {
   "attachments": {},
   "cell_type": "markdown",
   "id": "75eae75f-4a59-4a91-8b88-90cdaab82743",
   "metadata": {
    "tags": []
   },
   "source": [
    "* Theres no missing Values in the Both Original as well as the generated Dataset."
   ]
  },
  {
   "attachments": {},
   "cell_type": "markdown",
   "id": "af284c78-2f2a-46dd-b2b0-690d9e41d7ee",
   "metadata": {},
   "source": [
    "# EDA"
   ]
  },
  {
   "attachments": {},
   "cell_type": "markdown",
   "id": "9c226f1d-2c7f-4502-97d2-853876afb86f",
   "metadata": {
    "tags": []
   },
   "source": [
    "## 1. Age"
   ]
  },
  {
   "cell_type": "code",
   "execution_count": null,
   "id": "99bfcb0a-44cf-4cf2-9deb-ebe93dae754c",
   "metadata": {
    "tags": []
   },
   "outputs": [],
   "source": [
    "sns.histplot(data=original_df, x=\"Age\", kde=True)"
   ]
  },
  {
   "attachments": {},
   "cell_type": "markdown",
   "id": "b708b7ba-fe02-4b89-9f97-f866d95f67e9",
   "metadata": {},
   "source": [
    "### Most of the Employees are between 30 to 40 years of Age and the data distribution is positively skewed."
   ]
  },
  {
   "cell_type": "code",
   "execution_count": null,
   "id": "4e6fa0ca-8803-4313-99cd-0f672522aca8",
   "metadata": {
    "tags": []
   },
   "outputs": [],
   "source": [
    "print(original_df.Age.min())\n",
    "print(original_df.Age.max())\n"
   ]
  },
  {
   "attachments": {},
   "cell_type": "markdown",
   "id": "0b11d96a-3486-499d-adec-19d15cdc76f7",
   "metadata": {},
   "source": [
    "* So everyone is avobe 18 so we can drop **Over18** features from our data set in the cleaning phase."
   ]
  },
  {
   "attachments": {},
   "cell_type": "markdown",
   "id": "1a1bccd7-fbd8-48c2-a77f-d4220e9bb44f",
   "metadata": {},
   "source": [
    "## 2. Business Travel"
   ]
  },
  {
   "cell_type": "code",
   "execution_count": null,
   "id": "0aaaf7de-0813-4104-a454-d93e564661b8",
   "metadata": {
    "tags": []
   },
   "outputs": [],
   "source": [
    "sns.countplot(data=original_df, x=\"BusinessTravel\")"
   ]
  },
  {
   "attachments": {},
   "cell_type": "markdown",
   "id": "20d5172f",
   "metadata": {},
   "source": [
    "> ### Most of the employees travel rarely"
   ]
  },
  {
   "attachments": {},
   "cell_type": "markdown",
   "id": "43f44674-fa55-4fef-ad96-627a9635bf2f",
   "metadata": {},
   "source": [
    "## BusinessTravel Based on Attrition Rate"
   ]
  },
  {
   "cell_type": "code",
   "execution_count": null,
   "id": "84abc055-074e-455b-8636-3d05b4e56d49",
   "metadata": {
    "tags": []
   },
   "outputs": [],
   "source": [
    "sns.countplot(data=original_df, hue=\"BusinessTravel\", x=\"Attrition\")"
   ]
  },
  {
   "attachments": {},
   "cell_type": "markdown",
   "id": "a90cfc9a-a5df-4e77-967b-ad7f65cf34ec",
   "metadata": {
    "tags": []
   },
   "source": [
    "* We got to know that People who **do not travel and rarely travels** have a very low rate of Attrition."
   ]
  },
  {
   "attachments": {},
   "cell_type": "markdown",
   "id": "1463df5b-23a9-4b27-b906-fe36a3bac9ef",
   "metadata": {
    "tags": []
   },
   "source": [
    "## 3. DailyRate"
   ]
  },
  {
   "cell_type": "code",
   "execution_count": null,
   "id": "30a0058b-150b-4b2f-a0ab-b5b3ffb2af8e",
   "metadata": {
    "tags": []
   },
   "outputs": [],
   "source": [
    "sns.histplot(data=original_df, x=\"DailyRate\", kde=True)"
   ]
  },
  {
   "attachments": {},
   "cell_type": "markdown",
   "id": "1e07bcf3",
   "metadata": {},
   "source": [
    "> ### Daily Rate of employees is normally distributed. "
   ]
  },
  {
   "attachments": {},
   "cell_type": "markdown",
   "id": "9f72f556",
   "metadata": {},
   "source": [
    "## Attrition vs DailyRate"
   ]
  },
  {
   "cell_type": "code",
   "execution_count": null,
   "id": "566cc6ce",
   "metadata": {},
   "outputs": [],
   "source": [
    "sns.histplot(data=original_df, x=\"DailyRate\", hue=\"Attrition\", kde=True)"
   ]
  },
  {
   "attachments": {},
   "cell_type": "markdown",
   "id": "f878647c",
   "metadata": {},
   "source": [
    "> ### We can say that attrition is same for all the daily rates. So daily rate does not affect the attrition rate."
   ]
  },
  {
   "attachments": {},
   "cell_type": "markdown",
   "id": "5fa96dfa-2922-445f-b30d-3cd920a73efb",
   "metadata": {
    "tags": []
   },
   "source": [
    "## 4. Department"
   ]
  },
  {
   "cell_type": "code",
   "execution_count": null,
   "id": "35ba6da3-2092-4cb4-a475-de65e5108a13",
   "metadata": {
    "tags": []
   },
   "outputs": [],
   "source": [
    "sns.countplot(data=original_df, x=\"Department\")"
   ]
  },
  {
   "attachments": {},
   "cell_type": "markdown",
   "id": "96d07cca",
   "metadata": {},
   "source": [
    "> ### As compared to other departments, HR department has less number of employees."
   ]
  },
  {
   "attachments": {},
   "cell_type": "markdown",
   "id": "da902a0b-babc-40e5-bcf0-d51d0cc2d9c1",
   "metadata": {},
   "source": [
    "## Department vs Attrition`"
   ]
  },
  {
   "cell_type": "code",
   "execution_count": null,
   "id": "dbbb650f-f090-40d3-8062-52e8c94d6285",
   "metadata": {
    "tags": []
   },
   "outputs": [],
   "source": [
    "sns.countplot(data=original_df, hue=\"Department\", x=\"Attrition\")"
   ]
  },
  {
   "attachments": {},
   "cell_type": "markdown",
   "id": "ba0db265",
   "metadata": {},
   "source": [
    "> ### Sales department has the slightly higher attrition rate as compared to other departments."
   ]
  },
  {
   "attachments": {},
   "cell_type": "markdown",
   "id": "6b999d2a-b64f-435e-aa95-ca1147ff9eb9",
   "metadata": {
    "tags": []
   },
   "source": [
    "## 5.Distance From Home (in Km)"
   ]
  },
  {
   "cell_type": "code",
   "execution_count": null,
   "id": "98828ea3-1991-4377-816a-e3a55ab32aec",
   "metadata": {
    "tags": []
   },
   "outputs": [],
   "source": [
    "sns.histplot(data=original_df, x=\"DistanceFromHome\", kde=True)"
   ]
  },
  {
   "attachments": {},
   "cell_type": "markdown",
   "id": "c28d41d1",
   "metadata": {},
   "source": [
    "> ### Most of the employees live near the company."
   ]
  },
  {
   "attachments": {},
   "cell_type": "markdown",
   "id": "08da474c",
   "metadata": {},
   "source": [
    "## Distance from home vs Attrition"
   ]
  },
  {
   "cell_type": "code",
   "execution_count": null,
   "id": "0eaa5e6f",
   "metadata": {},
   "outputs": [],
   "source": [
    "sns.displot(data=original_df, x=\"DistanceFromHome\", hue=\"Attrition\", kde=True)"
   ]
  },
  {
   "attachments": {},
   "cell_type": "markdown",
   "id": "86dba954",
   "metadata": {},
   "source": [
    "> ### We can se that distance from home is not a factor for attrition."
   ]
  },
  {
   "attachments": {},
   "cell_type": "markdown",
   "id": "bb4a11bf-e9dc-48b2-8234-146421829b32",
   "metadata": {},
   "source": [
    "## 6.Education"
   ]
  },
  {
   "cell_type": "code",
   "execution_count": null,
   "id": "55392cb3-f877-4784-a34a-ec2f0409f1e1",
   "metadata": {
    "tags": []
   },
   "outputs": [],
   "source": [
    "sns.countplot(data=original_df, x=\"Education\")\n",
    "plt.xlabel([\"Below College\", \"College\", \"Bachelor\", \"Master\", \"Doctor\"])"
   ]
  },
  {
   "attachments": {},
   "cell_type": "markdown",
   "id": "7ae79a76",
   "metadata": {},
   "source": [
    "> ### Most of the employees are from College and Bachelor or Master degree holders."
   ]
  },
  {
   "attachments": {},
   "cell_type": "markdown",
   "id": "94a51526",
   "metadata": {},
   "source": [
    "## Education vs Attrition"
   ]
  },
  {
   "cell_type": "code",
   "execution_count": null,
   "id": "de993ce3-87f2-480c-a4c6-ebba8b223f8d",
   "metadata": {
    "tags": []
   },
   "outputs": [],
   "source": [
    "sns.countplot(data=original_df, hue=\"Education\", x=\"Attrition\")"
   ]
  },
  {
   "attachments": {},
   "cell_type": "markdown",
   "id": "f21867f6",
   "metadata": {},
   "source": [
    "> ### We can see employees with Below College education are more likely to leave the company as compared to other employees."
   ]
  },
  {
   "attachments": {},
   "cell_type": "markdown",
   "id": "0b8dcdf8-60d5-4af9-a5a7-38f05a05b09d",
   "metadata": {},
   "source": [
    "## 7.Education Field (Employee's field of study)"
   ]
  },
  {
   "cell_type": "code",
   "execution_count": null,
   "id": "eae4be0b-0806-4b33-bd8d-d50819e5887b",
   "metadata": {
    "tags": []
   },
   "outputs": [],
   "source": [
    "plt.figure(figsize=(10, 6))\n",
    "sns.countplot(\n",
    "    data=original_df,\n",
    "    x=\"EducationField\",\n",
    ")"
   ]
  },
  {
   "attachments": {},
   "cell_type": "markdown",
   "id": "f03f9823",
   "metadata": {},
   "source": [
    "> ### Most of the employees are from Life Sciences and Medical field"
   ]
  },
  {
   "attachments": {},
   "cell_type": "markdown",
   "id": "a9dfd995",
   "metadata": {},
   "source": [
    "## Education Field vs Attrition"
   ]
  },
  {
   "cell_type": "code",
   "execution_count": null,
   "id": "7e954a5e",
   "metadata": {},
   "outputs": [],
   "source": [
    "plt.figure(figsize=(10, 6))\n",
    "sns.countplot(data=original_df, hue=\"EducationField\", x=\"Attrition\")"
   ]
  },
  {
   "attachments": {},
   "cell_type": "markdown",
   "id": "1e9ae544",
   "metadata": {},
   "source": [
    "> ### There is slighly more chance of employees leaving the company if they are from Marketing and Technical background"
   ]
  },
  {
   "attachments": {},
   "cell_type": "markdown",
   "id": "684d3e0e-4dc3-42c5-8242-eec721bd45d4",
   "metadata": {
    "tags": []
   },
   "source": [
    "## 8.EmployeeCount"
   ]
  },
  {
   "cell_type": "code",
   "execution_count": null,
   "id": "00bbf5be-1e20-493b-91ed-9cf07043f218",
   "metadata": {
    "tags": []
   },
   "outputs": [],
   "source": [
    "sns.countplot(data=original_df, x=\"EmployeeCount\")"
   ]
  },
  {
   "attachments": {},
   "cell_type": "markdown",
   "id": "75c1e582-a6e5-4353-bc92-eb5bede912a4",
   "metadata": {},
   "source": [
    "* ### We will be going to drop this column/feature as it only contains only one value is no use for the prediction"
   ]
  },
  {
   "attachments": {},
   "cell_type": "markdown",
   "id": "c9a5f17a-625d-462a-815b-1292d4edd51f",
   "metadata": {
    "tags": []
   },
   "source": [
    "## 9.Environment Satisfaction (1-Low, 2-Medium, 3-High, 4-Very High)"
   ]
  },
  {
   "cell_type": "code",
   "execution_count": null,
   "id": "65a1ffbf",
   "metadata": {},
   "outputs": [],
   "source": [
    "sns.countplot(data=original_df, x=\"EnvironmentSatisfaction\")"
   ]
  },
  {
   "attachments": {},
   "cell_type": "markdown",
   "id": "09d7409c",
   "metadata": {},
   "source": [
    "> ### So most of the employees are satisfied with the environment."
   ]
  },
  {
   "cell_type": "code",
   "execution_count": null,
   "id": "2c23ca93-cd8c-428c-92ef-b1b399fc489a",
   "metadata": {
    "tags": []
   },
   "outputs": [],
   "source": [
    "sns.countplot(data=original_df, hue=\"EnvironmentSatisfaction\", x=\"Attrition\")"
   ]
  },
  {
   "attachments": {},
   "cell_type": "markdown",
   "id": "49bcfbb8",
   "metadata": {},
   "source": [
    "> ### Employee with less Environment Satisfaction are more likely to leave the company. So Environment Satisfaction is a factor for Attrition."
   ]
  },
  {
   "attachments": {},
   "cell_type": "markdown",
   "id": "a460645e-de86-4fc2-a204-2a5077c27f56",
   "metadata": {},
   "source": [
    "## 10. Gender"
   ]
  },
  {
   "cell_type": "code",
   "execution_count": null,
   "id": "c2ce7525-ee65-4ce8-8e46-c063cb9b7dd2",
   "metadata": {
    "tags": []
   },
   "outputs": [],
   "source": [
    "plt.pie(\n",
    "    original_df.Gender.value_counts(),\n",
    "    labels=[\n",
    "        round(\n",
    "            (\n",
    "                original_df.Gender.value_counts()[0]\n",
    "                / original_df.Gender.value_counts().sum()\n",
    "            )\n",
    "            * 100,\n",
    "            2,\n",
    "        ),\n",
    "        round(\n",
    "            (\n",
    "                original_df.Gender.value_counts()[1]\n",
    "                / original_df.Gender.value_counts().sum()\n",
    "            )\n",
    "            * 100,\n",
    "            2,\n",
    "        ),\n",
    "    ],\n",
    "    explode=[0.2, 0],\n",
    "    shadow=True,\n",
    "    startangle=90,\n",
    ")\n",
    "plt.legend([\"Male\", \"Female\"])"
   ]
  },
  {
   "attachments": {},
   "cell_type": "markdown",
   "id": "e5aa2a49",
   "metadata": {},
   "source": [
    "> ### 60% of the employees working are male."
   ]
  },
  {
   "attachments": {},
   "cell_type": "markdown",
   "id": "40663e15",
   "metadata": {},
   "source": [
    "## Gender vs Attrition"
   ]
  },
  {
   "cell_type": "code",
   "execution_count": null,
   "id": "3d074a62-7b48-4aa3-8401-fb02b61e2d52",
   "metadata": {
    "tags": []
   },
   "outputs": [],
   "source": [
    "sns.countplot(data=original_df, hue=\"Gender\", x=\"Attrition\")"
   ]
  },
  {
   "attachments": {},
   "cell_type": "markdown",
   "id": "caaa98e2",
   "metadata": {},
   "source": [
    "> ### So Gender has no effect on Attrition."
   ]
  },
  {
   "attachments": {},
   "cell_type": "markdown",
   "id": "5de10ade-b70a-45e4-8712-564a06163c3f",
   "metadata": {},
   "source": [
    "## 11. HourlyRate"
   ]
  },
  {
   "cell_type": "code",
   "execution_count": null,
   "id": "e83b0ffc-28f2-41fe-98bd-d1a63f636b4c",
   "metadata": {
    "tags": []
   },
   "outputs": [],
   "source": [
    "sns.histplot(data=original_df, x=\"HourlyRate\", kde=True)"
   ]
  },
  {
   "attachments": {},
   "cell_type": "markdown",
   "id": "fc0c62fc",
   "metadata": {},
   "source": [
    "> ### We can see that the Hourly Rate is normally distributed."
   ]
  },
  {
   "attachments": {},
   "cell_type": "markdown",
   "id": "aaf207fb",
   "metadata": {},
   "source": [
    "## Hourly Rate vs Attrition"
   ]
  },
  {
   "cell_type": "code",
   "execution_count": null,
   "id": "b2c159a1",
   "metadata": {},
   "outputs": [],
   "source": [
    "sns.displot(data=original_df, x=\"HourlyRate\", hue=\"Attrition\", kde=True)"
   ]
  },
  {
   "attachments": {},
   "cell_type": "markdown",
   "id": "a60a73dc",
   "metadata": {},
   "source": [
    "> ### Hourly Rate doesn't impact Attrition."
   ]
  },
  {
   "attachments": {},
   "cell_type": "markdown",
   "id": "eb2b1a21-d76f-4174-8959-78daaeb8fdde",
   "metadata": {},
   "source": [
    "## 12. Job Involvement(1-Low, 2-Medium, 3-High, 4-Very High)"
   ]
  },
  {
   "cell_type": "code",
   "execution_count": null,
   "id": "136ded17",
   "metadata": {},
   "outputs": [],
   "source": [
    "sns.countplot(data=original_df, x=\"JobInvolvement\")"
   ]
  },
  {
   "attachments": {},
   "cell_type": "markdown",
   "id": "e1603dbf",
   "metadata": {},
   "source": [
    "> ### Most of the employees have High JobInvolvement(3)"
   ]
  },
  {
   "attachments": {},
   "cell_type": "markdown",
   "id": "1b93dbc5",
   "metadata": {},
   "source": [
    "## Job Involvement vs Attrition"
   ]
  },
  {
   "cell_type": "code",
   "execution_count": null,
   "id": "0b39aa29-58b9-44c1-b74c-eb9956973279",
   "metadata": {
    "tags": []
   },
   "outputs": [],
   "source": [
    "sns.countplot(data=original_df, hue=\"JobInvolvement\", x=\"Attrition\")"
   ]
  },
  {
   "attachments": {},
   "cell_type": "markdown",
   "id": "fd8e863d",
   "metadata": {},
   "source": [
    "> ### We can see that the employees with JobInvolvement 1 are more likely to leave the company."
   ]
  },
  {
   "attachments": {},
   "cell_type": "markdown",
   "id": "64a706e9-253c-4be8-923d-e8657d1ed59d",
   "metadata": {},
   "source": [
    "## 13. Job Level"
   ]
  },
  {
   "cell_type": "code",
   "execution_count": null,
   "id": "5a4f9934-8a82-4394-9867-295f85bc66cf",
   "metadata": {
    "tags": []
   },
   "outputs": [],
   "source": [
    "sns.countplot(data=original_df, x=\"JobLevel\")"
   ]
  },
  {
   "attachments": {},
   "cell_type": "markdown",
   "id": "1c4c75f1",
   "metadata": {},
   "source": [
    "> ### Most of the employees working in the company are junior level employees."
   ]
  },
  {
   "attachments": {},
   "cell_type": "markdown",
   "id": "eb5059fc",
   "metadata": {},
   "source": [
    "## Job Level vs Attrition"
   ]
  },
  {
   "cell_type": "code",
   "execution_count": null,
   "id": "856306d9",
   "metadata": {},
   "outputs": [],
   "source": [
    "sns.countplot(data=original_df, hue=\"JobLevel\", x=\"Attrition\")"
   ]
  },
  {
   "attachments": {},
   "cell_type": "markdown",
   "id": "a503ca24",
   "metadata": {},
   "source": [
    "> ### Employees with JobLevel 1 are more likely to leave the company."
   ]
  },
  {
   "attachments": {},
   "cell_type": "markdown",
   "id": "c929efc1-889e-4ba9-97a3-38879200b0d0",
   "metadata": {},
   "source": [
    "## 14. Job Role"
   ]
  },
  {
   "cell_type": "code",
   "execution_count": null,
   "id": "396c6989-aea0-4bc7-8478-16bb696604fd",
   "metadata": {
    "tags": []
   },
   "outputs": [],
   "source": [
    "plt.figure(figsize=(10, 6))\n",
    "sns.countplot(data=original_df, x=\"JobRole\")\n",
    "plt.xticks(rotation=90)"
   ]
  },
  {
   "attachments": {},
   "cell_type": "markdown",
   "id": "9d8b64c7",
   "metadata": {},
   "source": [
    "> ### Most of the employees are in Sales Executive and Research Scientist and Lab Technician role."
   ]
  },
  {
   "attachments": {},
   "cell_type": "markdown",
   "id": "1bb5d4a1",
   "metadata": {},
   "source": [
    "## Job Role vs Attrition"
   ]
  },
  {
   "cell_type": "code",
   "execution_count": null,
   "id": "23a66fcb",
   "metadata": {},
   "outputs": [],
   "source": [
    "sns.countplot(data=original_df, hue=\"JobRole\", x=\"Attrition\")"
   ]
  },
  {
   "attachments": {},
   "cell_type": "markdown",
   "id": "e42b09e4",
   "metadata": {},
   "source": [
    "> ### Sales and HR department have the highest attrition rate."
   ]
  },
  {
   "attachments": {},
   "cell_type": "markdown",
   "id": "2d92bdac",
   "metadata": {},
   "source": [
    "## 15. Job Satisfaction (1:Low, 2:Medium, 3:High, 4:Very High)"
   ]
  },
  {
   "cell_type": "code",
   "execution_count": null,
   "id": "b6839e9d",
   "metadata": {},
   "outputs": [],
   "source": [
    "sns.countplot(data=original_df, x=\"JobSatisfaction\")"
   ]
  },
  {
   "attachments": {},
   "cell_type": "markdown",
   "id": "0ec4e1f8",
   "metadata": {},
   "source": [
    "> ### Most of the employees are satisfied with their job."
   ]
  },
  {
   "attachments": {},
   "cell_type": "markdown",
   "id": "58494a4d",
   "metadata": {},
   "source": [
    "## JobSatisfaction vs Attrition"
   ]
  },
  {
   "cell_type": "code",
   "execution_count": null,
   "id": "dfe48e29-4722-45f6-9733-3739bc725b1e",
   "metadata": {
    "tags": []
   },
   "outputs": [],
   "source": [
    "sns.countplot(data=original_df, x=\"JobSatisfaction\", hue=\"Attrition\")"
   ]
  },
  {
   "attachments": {},
   "cell_type": "markdown",
   "id": "4f109a9f",
   "metadata": {},
   "source": [
    "> ### Employees with low JobSatisfaction are more likely to leave the company."
   ]
  },
  {
   "attachments": {},
   "cell_type": "markdown",
   "id": "cde15fb7",
   "metadata": {},
   "source": [
    "## 16. Marital Status"
   ]
  },
  {
   "cell_type": "code",
   "execution_count": null,
   "id": "2ab0a2e2",
   "metadata": {},
   "outputs": [],
   "source": [
    "sns.countplot(data=original_df, x=\"MaritalStatus\")"
   ]
  },
  {
   "attachments": {},
   "cell_type": "markdown",
   "id": "3b2e14cb",
   "metadata": {},
   "source": [
    "> ### Single people are more in the company as divorced employees are considered as single because they are not married any more."
   ]
  },
  {
   "attachments": {},
   "cell_type": "markdown",
   "id": "e2790127",
   "metadata": {},
   "source": [
    "## Marital Status vs Attrition"
   ]
  },
  {
   "cell_type": "code",
   "execution_count": null,
   "id": "0f3640f5-8bb7-472b-ba2b-7754c31df323",
   "metadata": {
    "tags": []
   },
   "outputs": [],
   "source": [
    "sns.countplot(data=original_df, x=\"MaritalStatus\", hue=\"Attrition\")"
   ]
  },
  {
   "attachments": {},
   "cell_type": "markdown",
   "id": "d803b5f1",
   "metadata": {},
   "source": [
    "> ### Single People are more likely to leave the company as it is the early years of their career so they can switch easily and doesn't have any responsibilities."
   ]
  },
  {
   "attachments": {},
   "cell_type": "markdown",
   "id": "7781ed35-fac0-4fcd-85ce-207e6933bc62",
   "metadata": {},
   "source": [
    "## 17. Monthly Income"
   ]
  },
  {
   "cell_type": "code",
   "execution_count": null,
   "id": "23420d5d-102d-44cb-b925-86a43bff23bd",
   "metadata": {
    "tags": []
   },
   "outputs": [],
   "source": [
    "sns.histplot(data=original_df, x=\"MonthlyIncome\", kde=True)"
   ]
  },
  {
   "attachments": {},
   "cell_type": "markdown",
   "id": "46bd69c2",
   "metadata": {},
   "source": [
    "> ### MonthlyIncome data is positively skewed."
   ]
  },
  {
   "attachments": {},
   "cell_type": "markdown",
   "id": "44195739",
   "metadata": {},
   "source": [
    "## MonthlyIncome vs Attrition"
   ]
  },
  {
   "cell_type": "code",
   "execution_count": null,
   "id": "51ee889d",
   "metadata": {},
   "outputs": [],
   "source": [
    "sns.histplot(data=original_df, x=\"MonthlyIncome\", hue=\"Attrition\", kde=True)"
   ]
  },
  {
   "attachments": {},
   "cell_type": "markdown",
   "id": "10c91465",
   "metadata": {},
   "source": [
    "> ### Low Monthly Income is factor for Attrition."
   ]
  },
  {
   "attachments": {},
   "cell_type": "markdown",
   "id": "50322128-5d6d-4685-af88-d2db81552e54",
   "metadata": {
    "tags": []
   },
   "source": [
    "## 18. Monthly Rate"
   ]
  },
  {
   "cell_type": "code",
   "execution_count": null,
   "id": "517fa6e0-3cd8-4e8e-aae8-668579e57c5f",
   "metadata": {
    "tags": []
   },
   "outputs": [],
   "source": [
    "sns.histplot(data=original_df, x=\"MonthlyRate\")"
   ]
  },
  {
   "attachments": {},
   "cell_type": "markdown",
   "id": "a3fddffa",
   "metadata": {},
   "source": [
    "## MonthlyRate vs Attrition"
   ]
  },
  {
   "cell_type": "code",
   "execution_count": null,
   "id": "4d9189d3",
   "metadata": {},
   "outputs": [],
   "source": [
    "sns.histplot(data=original_df, x=\"MonthlyRate\", hue=\"Attrition\")"
   ]
  },
  {
   "attachments": {},
   "cell_type": "markdown",
   "id": "4d7638d0",
   "metadata": {},
   "source": [
    "> ### Attrition is same for all monthly rates."
   ]
  },
  {
   "attachments": {},
   "cell_type": "markdown",
   "id": "d07fbc30",
   "metadata": {},
   "source": [
    "## 19. Number of Companies Worked"
   ]
  },
  {
   "cell_type": "code",
   "execution_count": null,
   "id": "050ef4f4-ce9d-4624-9eef-3ebc29747a04",
   "metadata": {
    "tags": []
   },
   "outputs": [],
   "source": [
    "sns.countplot(data=original_df, x=\"NumCompaniesWorked\")"
   ]
  },
  {
   "attachments": {},
   "cell_type": "markdown",
   "id": "b18e7ffa",
   "metadata": {},
   "source": [
    "> ### Most of the employees have worked in 1 company."
   ]
  },
  {
   "attachments": {},
   "cell_type": "markdown",
   "id": "1689a0ae",
   "metadata": {},
   "source": [
    "## NumCompaniesWorked vs Attrition"
   ]
  },
  {
   "cell_type": "code",
   "execution_count": null,
   "id": "213eb525",
   "metadata": {
    "tags": []
   },
   "outputs": [],
   "source": [
    "sns.countplot(data=original_df, x=\"NumCompaniesWorked\", hue=\"Attrition\")"
   ]
  },
  {
   "attachments": {},
   "cell_type": "markdown",
   "id": "7981f585",
   "metadata": {},
   "source": [
    "> ### If the employee has worked in more companies, the chances of him leaving the company is more. And there is no doubt that the employee who has worked in 1 company will leave the company."
   ]
  },
  {
   "attachments": {},
   "cell_type": "markdown",
   "id": "8a239096",
   "metadata": {},
   "source": [
    "## 20. Over Time"
   ]
  },
  {
   "cell_type": "code",
   "execution_count": null,
   "id": "5d9db9e6",
   "metadata": {},
   "outputs": [],
   "source": [
    "sns.countplot(data=original_df, x=\"OverTime\")"
   ]
  },
  {
   "attachments": {},
   "cell_type": "markdown",
   "id": "9f6633c1",
   "metadata": {},
   "source": [
    "> ### Few employees are working overtime."
   ]
  },
  {
   "attachments": {},
   "cell_type": "markdown",
   "id": "fe823c0b",
   "metadata": {},
   "source": [
    "## OverTime vs Attrition"
   ]
  },
  {
   "cell_type": "code",
   "execution_count": null,
   "id": "beb1d23b-c94f-47be-8db8-24666c2b09a4",
   "metadata": {
    "tags": []
   },
   "outputs": [],
   "source": [
    "sns.countplot(data=original_df, x=\"OverTime\", hue=\"Attrition\")"
   ]
  },
  {
   "attachments": {},
   "cell_type": "markdown",
   "id": "ab550d75",
   "metadata": {},
   "source": [
    "> ### Employee doing overtime are more likely to leave the company."
   ]
  },
  {
   "attachments": {},
   "cell_type": "markdown",
   "id": "04a9a328",
   "metadata": {},
   "source": [
    "## 21. Stock Option Level"
   ]
  },
  {
   "cell_type": "code",
   "execution_count": null,
   "id": "790526cf",
   "metadata": {
    "tags": []
   },
   "outputs": [],
   "source": [
    "sns.countplot(data=original_df, x=\"StockOptionLevel\")"
   ]
  },
  {
   "attachments": {},
   "cell_type": "markdown",
   "id": "ccd8224b",
   "metadata": {},
   "source": [
    "> ### Most of the employees have stock option level 0 or 1."
   ]
  },
  {
   "attachments": {},
   "cell_type": "markdown",
   "id": "37d66e8c",
   "metadata": {},
   "source": [
    "## StockOptionLevel vs Attrition"
   ]
  },
  {
   "cell_type": "code",
   "execution_count": null,
   "id": "fca0cb0a",
   "metadata": {},
   "outputs": [],
   "source": [
    "sns.countplot(data=original_df, x=\"StockOptionLevel\", hue=\"Attrition\")"
   ]
  },
  {
   "attachments": {},
   "cell_type": "markdown",
   "id": "85c3c8ea",
   "metadata": {},
   "source": [
    "> ### Stock Option Level has no effect on Attrition."
   ]
  },
  {
   "attachments": {},
   "cell_type": "markdown",
   "id": "be512214",
   "metadata": {},
   "source": [
    "## 22. Total Working Years"
   ]
  },
  {
   "cell_type": "code",
   "execution_count": null,
   "id": "64cde157-42d8-4fa8-b0bf-3f7f13b5202e",
   "metadata": {
    "tags": []
   },
   "outputs": [],
   "source": [
    "sns.histplot(data=original_df, x=\"TotalWorkingYears\", kde=True)"
   ]
  },
  {
   "attachments": {},
   "cell_type": "markdown",
   "id": "f3fc4b32",
   "metadata": {},
   "source": [
    "> ### Most of the employees have 5 to 10 years of experience."
   ]
  },
  {
   "attachments": {},
   "cell_type": "markdown",
   "id": "a8afc5b2",
   "metadata": {},
   "source": [
    "## TotalWorkingYears vs Attrition"
   ]
  },
  {
   "cell_type": "code",
   "execution_count": null,
   "id": "117d2dca",
   "metadata": {},
   "outputs": [],
   "source": [
    "sns.histplot(data=original_df, x=\"TotalWorkingYears\", hue=\"Attrition\", kde=True)"
   ]
  },
  {
   "attachments": {},
   "cell_type": "markdown",
   "id": "4e9ef966",
   "metadata": {},
   "source": [
    "> ### Employee who have worked for less 10 years are more likely to leave the company."
   ]
  },
  {
   "attachments": {},
   "cell_type": "markdown",
   "id": "47d12c95",
   "metadata": {},
   "source": [
    "## 23. Training Times Last Year"
   ]
  },
  {
   "cell_type": "code",
   "execution_count": null,
   "id": "98da122f-0e2f-4f8d-a0b9-fcdb3e46db6c",
   "metadata": {
    "tags": []
   },
   "outputs": [],
   "source": [
    "sns.countplot(data=original_df, x=\"TrainingTimesLastYear\")"
   ]
  },
  {
   "attachments": {},
   "cell_type": "markdown",
   "id": "b75d8372",
   "metadata": {},
   "source": [
    "> ### Most of the employees have taken 2 or 3 training times last year."
   ]
  },
  {
   "attachments": {},
   "cell_type": "markdown",
   "id": "21ee2322",
   "metadata": {},
   "source": [
    "## TrainingTimesLastYear vs Attrition"
   ]
  },
  {
   "cell_type": "code",
   "execution_count": null,
   "id": "00a3c369",
   "metadata": {},
   "outputs": [],
   "source": [
    "sns.countplot(data=original_df, x=\"TrainingTimesLastYear\", hue=\"Attrition\")"
   ]
  },
  {
   "attachments": {},
   "cell_type": "markdown",
   "id": "75532f6a",
   "metadata": {},
   "source": [
    "> ### Employees given more training are less likely to leave the company."
   ]
  },
  {
   "attachments": {},
   "cell_type": "markdown",
   "id": "303f8926",
   "metadata": {},
   "source": [
    "## 24. Work Life Balance"
   ]
  },
  {
   "cell_type": "code",
   "execution_count": null,
   "id": "296f13c1-c43a-45ba-8c9a-3a33f7beb887",
   "metadata": {
    "tags": []
   },
   "outputs": [],
   "source": [
    "sns.countplot(data=original_df, x=\"WorkLifeBalance\")"
   ]
  },
  {
   "attachments": {},
   "cell_type": "markdown",
   "id": "71c9a231",
   "metadata": {},
   "source": [
    "> ### Most of the employees have a work life balance of 3."
   ]
  },
  {
   "attachments": {},
   "cell_type": "markdown",
   "id": "b0b6ddf8",
   "metadata": {},
   "source": [
    "## WorkLifeBalance vs Attrition"
   ]
  },
  {
   "cell_type": "code",
   "execution_count": null,
   "id": "944101ee",
   "metadata": {},
   "outputs": [],
   "source": [
    "sns.countplot(data=original_df, x=\"WorkLifeBalance\", hue=\"Attrition\")"
   ]
  },
  {
   "attachments": {},
   "cell_type": "markdown",
   "id": "1a21f43f",
   "metadata": {},
   "source": [
    "> ### Employee Work Life Balance affects the Attrition Rate as less work life balance leads to more attrition rate."
   ]
  },
  {
   "attachments": {},
   "cell_type": "markdown",
   "id": "697fdfce",
   "metadata": {},
   "source": [
    "## 25. Years At Company"
   ]
  },
  {
   "cell_type": "code",
   "execution_count": null,
   "id": "63a10210-5d0d-4186-95a2-fb3388e1203a",
   "metadata": {
    "tags": []
   },
   "outputs": [],
   "source": [
    "sns.histplot(data=original_df, x=\"YearsAtCompany\", kde=True)"
   ]
  },
  {
   "attachments": {},
   "cell_type": "markdown",
   "id": "f7b2a339",
   "metadata": {},
   "source": [
    "> ### Most of the employees are working in the company for less than 0 to 5 years."
   ]
  },
  {
   "attachments": {},
   "cell_type": "markdown",
   "id": "e6c8d77b",
   "metadata": {},
   "source": [
    "## YearsAtCompany vs Attrition"
   ]
  },
  {
   "cell_type": "code",
   "execution_count": null,
   "id": "45bc1cac",
   "metadata": {},
   "outputs": [],
   "source": [
    "sns.histplot(data=original_df, x=\"YearsAtCompany\", hue=\"Attrition\", kde=True)"
   ]
  },
  {
   "attachments": {},
   "cell_type": "markdown",
   "id": "ffc5af5b",
   "metadata": {},
   "source": [
    "> ### Less no of YearsAtCompany more chances of Attrition."
   ]
  },
  {
   "attachments": {},
   "cell_type": "markdown",
   "id": "f7e208bc",
   "metadata": {},
   "source": [
    "## 26. YearsInCurrentRole"
   ]
  },
  {
   "cell_type": "code",
   "execution_count": null,
   "id": "9689a293-7ca6-422e-b885-253d46874f65",
   "metadata": {
    "tags": []
   },
   "outputs": [],
   "source": [
    "sns.countplot(data=original_df, x=\"YearsInCurrentRole\")"
   ]
  },
  {
   "attachments": {},
   "cell_type": "markdown",
   "id": "24cf6419",
   "metadata": {},
   "source": [
    "> ### Most of the employees are in the same for 0, 2 ,7 years."
   ]
  },
  {
   "attachments": {},
   "cell_type": "markdown",
   "id": "92b6e084",
   "metadata": {},
   "source": [
    "## YearsInCurrentRole vs Attrition"
   ]
  },
  {
   "cell_type": "code",
   "execution_count": null,
   "id": "921468e2",
   "metadata": {},
   "outputs": [],
   "source": [
    "sns.countplot(data=original_df, x=\"YearsInCurrentRole\", hue=\"Attrition\")"
   ]
  },
  {
   "attachments": {},
   "cell_type": "markdown",
   "id": "06d98700",
   "metadata": {},
   "source": [
    "> ### If the employee stays in the same role for more years, then there is high chance of attrition."
   ]
  },
  {
   "attachments": {},
   "cell_type": "markdown",
   "id": "ec79d0d2",
   "metadata": {},
   "source": [
    "## 27. YearsSinceLastPromotion"
   ]
  },
  {
   "cell_type": "code",
   "execution_count": null,
   "id": "316e9ddd-b5bf-48dc-8dea-2da7905d9188",
   "metadata": {
    "tags": []
   },
   "outputs": [],
   "source": [
    "sns.countplot(data=original_df, x=\"YearsSinceLastPromotion\")"
   ]
  },
  {
   "attachments": {},
   "cell_type": "markdown",
   "id": "5622c304",
   "metadata": {},
   "source": [
    "> ### Most of the employees have 0, 1, 2 or 7 years since last promotion."
   ]
  },
  {
   "attachments": {},
   "cell_type": "markdown",
   "id": "b93ef60c",
   "metadata": {},
   "source": [
    "## YearsSinceLastPromotion vs Attrition"
   ]
  },
  {
   "cell_type": "code",
   "execution_count": null,
   "id": "ee358249",
   "metadata": {},
   "outputs": [],
   "source": [
    "sns.countplot(data=original_df, x=\"YearsSinceLastPromotion\", hue=\"Attrition\")"
   ]
  },
  {
   "attachments": {},
   "cell_type": "markdown",
   "id": "ec19560a",
   "metadata": {},
   "source": [
    "> ### If the employee is not promoted in last 2 years, then he/she is more likely to leave the company"
   ]
  },
  {
   "attachments": {},
   "cell_type": "markdown",
   "id": "b57dbbce",
   "metadata": {},
   "source": [
    "## 28. YearsWithCurrManager"
   ]
  },
  {
   "cell_type": "code",
   "execution_count": null,
   "id": "111aac45-8eb2-429c-b2ea-036e76cf4b9c",
   "metadata": {
    "tags": []
   },
   "outputs": [],
   "source": [
    "sns.countplot(data=original_df, x=\"YearsWithCurrManager\")"
   ]
  },
  {
   "attachments": {},
   "cell_type": "markdown",
   "id": "b2286da1",
   "metadata": {},
   "source": [
    "> ### Most of the employees are with the same manager for 0, 2, 3, 7, 8 years."
   ]
  },
  {
   "attachments": {},
   "cell_type": "markdown",
   "id": "92851a34",
   "metadata": {},
   "source": [
    "## YearswithCurrManager vs Attrition"
   ]
  },
  {
   "cell_type": "code",
   "execution_count": null,
   "id": "0cb06406",
   "metadata": {},
   "outputs": [],
   "source": [
    "sns.countplot(data=original_df, x=\"YearsWithCurrManager\", hue=\"Attrition\")"
   ]
  },
  {
   "attachments": {},
   "cell_type": "markdown",
   "id": "37a2f453",
   "metadata": {},
   "source": [
    "> ### Years with current manager doesn't have any impact on Attrition."
   ]
  },
  {
   "attachments": {},
   "cell_type": "markdown",
   "id": "f5589610-fde8-43e2-ba2b-2897fc3083db",
   "metadata": {},
   "source": [
    "## 28. Attrition"
   ]
  },
  {
   "cell_type": "code",
   "execution_count": null,
   "id": "760caeff-61b9-4bf1-a320-0aa659fe2d92",
   "metadata": {
    "tags": []
   },
   "outputs": [],
   "source": [
    "plt.pie(\n",
    "    original_df.Attrition.value_counts(),\n",
    "    labels=[round(147700 / 1677, 2), round(20000 / 1677, 2)],\n",
    "    explode=[0.2, 0],\n",
    "    shadow=True,\n",
    "    startangle=90,\n",
    ")\n",
    "plt.legend([\"Not Churn\", \"Churn\"])"
   ]
  },
  {
   "attachments": {},
   "cell_type": "markdown",
   "id": "3d9ed8a2-87d0-41b7-8f87-9d46b7481cc1",
   "metadata": {},
   "source": [
    "> ### 88% of the employees are not churned and 12% of the employees are churned."
   ]
  },
  {
   "attachments": {},
   "cell_type": "markdown",
   "id": "f4d7a773-e72d-41ab-a346-9ee836f9377f",
   "metadata": {
    "tags": []
   },
   "source": [
    "# DATA MUNGING"
   ]
  },
  {
   "attachments": {},
   "cell_type": "markdown",
   "id": "eb30cd5c-9eae-4bf7-b7a0-f9ea3d71704a",
   "metadata": {},
   "source": [
    "### Making a function to clean the data efficiently and making it ready for modeling."
   ]
  },
  {
   "cell_type": "code",
   "execution_count": 5,
   "id": "85af35d9",
   "metadata": {},
   "outputs": [],
   "source": [
    "# Change the position of Attrition column to the last in original_df\n",
    "\n",
    "original_df = original_df[\n",
    "    [\n",
    "        \"Age\",\n",
    "        \"BusinessTravel\",\n",
    "        \"DailyRate\",\n",
    "        \"Department\",\n",
    "        \"DistanceFromHome\",\n",
    "        \"Education\",\n",
    "        \"EducationField\",\n",
    "        \"EmployeeCount\",\n",
    "        \"EnvironmentSatisfaction\",\n",
    "        \"Gender\",\n",
    "        \"HourlyRate\",\n",
    "        \"JobInvolvement\",\n",
    "        \"JobLevel\",\n",
    "        \"JobRole\",\n",
    "        \"JobSatisfaction\",\n",
    "        \"MaritalStatus\",\n",
    "        \"MonthlyIncome\",\n",
    "        \"MonthlyRate\",\n",
    "        \"NumCompaniesWorked\",\n",
    "        \"Over18\",\n",
    "        \"OverTime\",\n",
    "        \"PercentSalaryHike\",\n",
    "        \"PerformanceRating\",\n",
    "        \"RelationshipSatisfaction\",\n",
    "        \"StandardHours\",\n",
    "        \"StockOptionLevel\",\n",
    "        \"TotalWorkingYears\",\n",
    "        \"TrainingTimesLastYear\",\n",
    "        \"WorkLifeBalance\",\n",
    "        \"YearsAtCompany\",\n",
    "        \"YearsInCurrentRole\",\n",
    "        \"YearsSinceLastPromotion\",\n",
    "        \"YearsWithCurrManager\",\n",
    "        \"Attrition\",\n",
    "    ]\n",
    "]"
   ]
  },
  {
   "cell_type": "code",
   "execution_count": 6,
   "id": "a2f6c40e",
   "metadata": {},
   "outputs": [
    {
     "name": "stdout",
     "output_type": "stream",
     "text": [
      "(1677, 34)\n",
      "(1470, 34)\n",
      "(3147, 34)\n"
     ]
    }
   ],
   "source": [
    "# Concatenate the two dataframes column wise and then remove the duplicate rows.\n",
    "print(df.shape)\n",
    "print(original_df.shape)\n",
    "df = pd.concat([df, original_df], axis=0)\n",
    "print(df.shape)"
   ]
  },
  {
   "cell_type": "code",
   "execution_count": 7,
   "id": "ccf559f3",
   "metadata": {},
   "outputs": [
    {
     "name": "stdout",
     "output_type": "stream",
     "text": [
      "(3147, 34)\n"
     ]
    }
   ],
   "source": [
    "df.drop_duplicates(inplace=True)\n",
    "print(df.shape)\n"
   ]
  },
  {
   "cell_type": "code",
   "execution_count": 8,
   "id": "59f27919-a100-4f9c-913d-54e4e63633e5",
   "metadata": {},
   "outputs": [],
   "source": [
    "num_cols = [\n",
    "    \"Age\",\n",
    "    \"DailyRate\",\n",
    "    \"DistanceFromHome\",\n",
    "    \"HourlyRate\",\n",
    "    \"MonthlyIncome\",\n",
    "    \"MonthlyRate\",\n",
    "    \"PercentSalaryHike\",\n",
    "    \"TotalWorkingYears\",\n",
    "    \"YearsAtCompany\",\n",
    "    \"YearsInCurrentRole\",\n",
    "    \"YearsSinceLastPromotion\",\n",
    "    \"YearsWithCurrManager\",\n",
    "]"
   ]
  },
  {
   "cell_type": "code",
   "execution_count": 9,
   "id": "7856bed5-f2d7-40aa-8c81-88441948067e",
   "metadata": {},
   "outputs": [],
   "source": [
    "def cleandata(df):\n",
    "    df.drop([\"EmployeeCount\", \"Over18\", \"StandardHours\"], axis=1, inplace=True)\n",
    "    cat_cols = []\n",
    "    for i in df.columns:\n",
    "        if i not in num_cols:\n",
    "            cat_cols.append(i)\n",
    "            pass\n",
    "        pass\n",
    "    cat_cols.remove(\"Attrition\")\n",
    "    df.Attrition.replace({\"Yes\": 1, \"No\": 0}, inplace=True)\n",
    "    df = pd.get_dummies(df, columns=cat_cols, drop_first=True)\n",
    "\n",
    "    return df"
   ]
  },
  {
   "cell_type": "code",
   "execution_count": 10,
   "id": "14f19a60-4131-46f9-a50c-2cf683f3bc03",
   "metadata": {},
   "outputs": [],
   "source": [
    "cleaneddf = cleandata(df)\n"
   ]
  },
  {
   "cell_type": "code",
   "execution_count": 11,
   "id": "fbc85d5b-2236-4a1d-90db-a14c775d174c",
   "metadata": {},
   "outputs": [],
   "source": [
    "cleaneddf.to_csv(\"cleantrain.csv\", index=False)"
   ]
  }
 ],
 "metadata": {
  "kernelspec": {
   "display_name": "Python 3 (ipykernel)",
   "language": "python",
   "name": "python3"
  },
  "language_info": {
   "codemirror_mode": {
    "name": "ipython",
    "version": 3
   },
   "file_extension": ".py",
   "mimetype": "text/x-python",
   "name": "python",
   "nbconvert_exporter": "python",
   "pygments_lexer": "ipython3",
   "version": "3.10.4"
  }
 },
 "nbformat": 4,
 "nbformat_minor": 5
}
