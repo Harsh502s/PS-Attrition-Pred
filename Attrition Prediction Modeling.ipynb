{
 "cells": [
  {
   "cell_type": "markdown",
   "id": "87b80074-b090-429b-b3b3-6315dc99f76f",
   "metadata": {},
   "source": [
    "# Import Libraries and Load Training and Testing Dataset"
   ]
  },
  {
   "cell_type": "code",
   "execution_count": 1,
   "id": "ff9b5b0d-11ad-4c88-bdb7-23136eb315e3",
   "metadata": {
    "tags": []
   },
   "outputs": [],
   "source": [
    "import pandas as pd\n",
    "import numpy as np"
   ]
  },
  {
   "cell_type": "code",
   "execution_count": 10,
   "id": "eb93cfeb-5f47-45b0-a050-6b743004a846",
   "metadata": {
    "tags": []
   },
   "outputs": [],
   "source": [
    "pd.set_option('display.max_columns',None)\n",
    "pd.set_option('display.float_format',lambda x : '%.2f'%x)"
   ]
  },
  {
   "cell_type": "code",
   "execution_count": 11,
   "id": "6766328e-9d00-4fd1-8d8b-24f95b01ed46",
   "metadata": {
    "tags": []
   },
   "outputs": [],
   "source": [
    "train = pd.read_csv('train.csv')\n",
    "test = pd.read_csv('test.csv')"
   ]
  },
  {
   "cell_type": "markdown",
   "id": "0ccede3a-d878-47f6-b369-26313a6bc31e",
   "metadata": {},
   "source": [
    "## Cleaning Training and Testing DataSets"
   ]
  },
  {
   "cell_type": "code",
   "execution_count": 12,
   "id": "211df3f5-8015-4339-b7a6-4302181a12b1",
   "metadata": {
    "tags": []
   },
   "outputs": [],
   "source": [
    "def cleandata(df):\n",
    "    df.drop(['id','Over18','StandardHours','EmployeeCount','EducationField','JobRole'],axis=1,inplace= True)\n",
    "    df.MaritalStatus.replace({'Divorced':'Single'},inplace=True)\n",
    "    df.OverTime.replace({'Yes':1,'No':0},inplace=True)\n",
    "    df = pd.get_dummies(data=df,columns=['Gender','BusinessTravel','Department','MaritalStatus'],drop_first=True)\n",
    "    return df"
   ]
  },
  {
   "cell_type": "code",
   "execution_count": 13,
   "id": "332ce462-54af-48a5-9776-df69823f103a",
   "metadata": {
    "tags": []
   },
   "outputs": [],
   "source": [
    "cleaned_train = cleandata(train)\n",
    "cleaned_test = cleandata(test)"
   ]
  },
  {
   "cell_type": "code",
   "execution_count": 34,
   "id": "d4605fd1-f1f9-44ce-8fd3-3e6d80613d91",
   "metadata": {
    "tags": []
   },
   "outputs": [],
   "source": [
    "X = cleaned_train.drop('Attrition',axis=1)\n",
    "y = cleaned_train['Attrition']"
   ]
  },
  {
   "cell_type": "code",
   "execution_count": 35,
   "id": "3c6e01e4-ae92-497c-9b95-4196d007cc84",
   "metadata": {
    "tags": []
   },
   "outputs": [],
   "source": [
    "X_train, X_val, y_train, y_val = train_test_split(X, y, test_size=0.33, random_state=42,stratify=y)"
   ]
  },
  {
   "cell_type": "code",
   "execution_count": 36,
   "id": "5e6de2b7-cefd-4c14-b069-d1d216cfb642",
   "metadata": {
    "tags": []
   },
   "outputs": [],
   "source": [
    "X_test = cleaned_test"
   ]
  },
  {
   "cell_type": "markdown",
   "id": "8a781e24-bff8-4ab1-9139-377ecfe776d7",
   "metadata": {},
   "source": [
    "## Importing ML Libraries"
   ]
  },
  {
   "cell_type": "code",
   "execution_count": 37,
   "id": "8bc0be97-7710-424b-9c7d-81ba39707281",
   "metadata": {
    "tags": []
   },
   "outputs": [],
   "source": [
    "from sklearn.model_selection import train_test_split,cross_val_score\n",
    "from sklearn.preprocessing import StandardScaler,MinMaxScaler\n",
    "from sklearn.metrics import accuracy_score,confusion_matrix,classification_report,recall_score,precision_score,roc_auc_score,f1_score\n",
    "from sklearn.pipeline import Pipeline\n",
    "from sklearn.linear_model import LogisticRegression\n",
    "from sklearn.tree import DecisionTreeClassifier\n",
    "from sklearn.ensemble import RandomForestClassifier,GradientBoostingClassifier,VotingClassifier,StackingClassifier\n",
    "from sklearn.svm import SVC\n",
    "from sklearn.neighbors import KNeighborsClassifier\n",
    "from sklearn.naive_bayes import GaussianNB,BernoulliNB\n",
    "from catboost import CatBoostClassifier\n",
    "from xgboost import XGBClassifier\n",
    "from imblearn.over_sampling import SMOTE"
   ]
  },
  {
   "cell_type": "markdown",
   "id": "9ce9a422-a0fa-4177-b5c0-3a4cc45d6905",
   "metadata": {
    "tags": []
   },
   "source": [
    "### Modeling with imbalanced Data set"
   ]
  },
  {
   "cell_type": "code",
   "execution_count": 53,
   "id": "c4fbb3ee-196d-41a4-9654-bbb2a8e6ede8",
   "metadata": {
    "tags": []
   },
   "outputs": [],
   "source": [
    "model_list = [('LR',LogisticRegression(solver='lbfgs')),\n",
    "             ('DT',DecisionTreeClassifier()),\n",
    "              ('RF',RandomForestClassifier(n_estimators=150)),\n",
    "              ('GBC',GradientBoostingClassifier(n_estimators=150)),\n",
    "              ('SVC',SVC(kernel='rbf')),\n",
    "              ('KNN',KNeighborsClassifier(n_neighbors=11)),\n",
    "              ('GNB',GaussianNB()),\n",
    "              ('BNB',BernoulliNB()),\n",
    "              ('CB',CatBoostClassifier(verbose=0)),\n",
    "              ('XBG',XGBClassifier(verbosity=0))\n",
    "             ]"
   ]
  },
  {
   "cell_type": "code",
   "execution_count": 55,
   "id": "d8477cbb-4538-445f-94f1-545236725aba",
   "metadata": {
    "tags": []
   },
   "outputs": [
    {
     "name": "stdout",
     "output_type": "stream",
     "text": [
      "LR\n",
      "Training Set Score 0.8806767586821015\n",
      "Test Set Score 0.8808664259927798\n",
      "Test Set Accuracy: 0.8808664259927798\n",
      "Confusion Matrix:\n",
      " [[488   0]\n",
      " [ 66   0]]\n",
      "\n",
      "\n",
      "DT\n",
      "Training Set Score 1.0\n",
      "Test Set Score 0.7924187725631769\n",
      "Test Set Accuracy: 0.7924187725631769\n",
      "Confusion Matrix:\n",
      " [[419  69]\n",
      " [ 46  20]]\n",
      "\n",
      "\n",
      "RF\n"
     ]
    },
    {
     "name": "stderr",
     "output_type": "stream",
     "text": [
      "C:\\Users\\harsh\\playground-series-s3e3\\PGSC\\lib\\site-packages\\sklearn\\linear_model\\_logistic.py:458: ConvergenceWarning: lbfgs failed to converge (status=1):\n",
      "STOP: TOTAL NO. of ITERATIONS REACHED LIMIT.\n",
      "\n",
      "Increase the number of iterations (max_iter) or scale the data as shown in:\n",
      "    https://scikit-learn.org/stable/modules/preprocessing.html\n",
      "Please also refer to the documentation for alternative solver options:\n",
      "    https://scikit-learn.org/stable/modules/linear_model.html#logistic-regression\n",
      "  n_iter_i = _check_optimize_result(\n",
      "C:\\Users\\harsh\\playground-series-s3e3\\PGSC\\lib\\site-packages\\sklearn\\metrics\\_classification.py:1344: UndefinedMetricWarning: Precision is ill-defined and being set to 0.0 due to no predicted samples. Use `zero_division` parameter to control this behavior.\n",
      "  _warn_prf(average, modifier, msg_start, len(result))\n"
     ]
    },
    {
     "name": "stdout",
     "output_type": "stream",
     "text": [
      "Training Set Score 1.0\n",
      "Test Set Score 0.8826714801444043\n",
      "Test Set Accuracy: 0.8826714801444043\n",
      "Confusion Matrix:\n",
      " [[483   5]\n",
      " [ 60   6]]\n",
      "\n",
      "\n",
      "GBC\n",
      "Training Set Score 0.9830810329474622\n",
      "Test Set Score 0.8808664259927798\n",
      "Test Set Accuracy: 0.8808664259927798\n",
      "Confusion Matrix:\n",
      " [[472  16]\n",
      " [ 50  16]]\n",
      "\n",
      "\n",
      "SVC\n",
      "Training Set Score 0.8806767586821015\n",
      "Test Set Score 0.8808664259927798\n",
      "Test Set Accuracy: 0.8808664259927798\n",
      "Confusion Matrix:\n",
      " [[488   0]\n",
      " [ 66   0]]\n",
      "\n",
      "\n",
      "KNN\n",
      "Training Set Score 0.8815672306322351\n",
      "Test Set Score 0.8808664259927798\n"
     ]
    },
    {
     "name": "stderr",
     "output_type": "stream",
     "text": [
      "C:\\Users\\harsh\\playground-series-s3e3\\PGSC\\lib\\site-packages\\sklearn\\metrics\\_classification.py:1344: UndefinedMetricWarning: Precision is ill-defined and being set to 0.0 due to no predicted samples. Use `zero_division` parameter to control this behavior.\n",
      "  _warn_prf(average, modifier, msg_start, len(result))\n",
      "C:\\Users\\harsh\\playground-series-s3e3\\PGSC\\lib\\site-packages\\sklearn\\metrics\\_classification.py:1344: UndefinedMetricWarning: Precision is ill-defined and being set to 0.0 due to no predicted samples. Use `zero_division` parameter to control this behavior.\n",
      "  _warn_prf(average, modifier, msg_start, len(result))\n"
     ]
    },
    {
     "name": "stdout",
     "output_type": "stream",
     "text": [
      "Test Set Accuracy: 0.8808664259927798\n",
      "Confusion Matrix:\n",
      " [[488   0]\n",
      " [ 66   0]]\n",
      "\n",
      "\n",
      "GNB\n",
      "Training Set Score 0.8646482635796973\n",
      "Test Set Score 0.8321299638989169\n",
      "Test Set Accuracy: 0.8321299638989169\n",
      "Confusion Matrix:\n",
      " [[433  55]\n",
      " [ 38  28]]\n",
      "\n",
      "\n",
      "BNB\n",
      "Training Set Score 0.8637577916295637\n",
      "Test Set Score 0.851985559566787\n",
      "Test Set Accuracy: 0.851985559566787\n",
      "Confusion Matrix:\n",
      " [[459  29]\n",
      " [ 53  13]]\n",
      "\n",
      "\n",
      "CB\n",
      "Training Set Score 0.9884238646482636\n",
      "Test Set Score 0.8935018050541517\n",
      "Test Set Accuracy: 0.8935018050541517\n",
      "Confusion Matrix:\n",
      " [[483   5]\n",
      " [ 54  12]]\n",
      "\n",
      "\n",
      "XBG\n",
      "Training Set Score 1.0\n",
      "Test Set Score 0.8826714801444043\n",
      "Test Set Accuracy: 0.8826714801444043\n",
      "Confusion Matrix:\n",
      " [[473  15]\n",
      " [ 50  16]]\n",
      "\n",
      "\n"
     ]
    }
   ],
   "source": [
    "model_dict1 = {}\n",
    "for model_name,model in model_list:\n",
    "    print(model_name)\n",
    "    model.fit(X_train,y_train)\n",
    "    print('Training Set Score',model.score(X_train,y_train))\n",
    "    print('Test Set Score',model.score(X_val,y_val))\n",
    "    y_pred = model.predict(X_val)\n",
    "    print('Test Set Accuracy:',accuracy_score(y_val,y_pred))\n",
    "    print('Confusion Matrix:\\n',confusion_matrix(y_val,y_pred))\n",
    "    print('\\n')\n",
    "    model_dict1[model_name] = {'Test ACC':round(accuracy_score(y_val,y_pred)*100,2),\n",
    "                             'Recall':round(recall_score(y_val,y_pred)*100,2),\n",
    "                             'Precision':round(precision_score(y_val,y_pred)*100,2),\n",
    "                              'F1-Score':round(f1_score(y_val,y_pred)*100,2),\n",
    "                              'ROC_AUC':round(roc_auc_score(y_val,y_pred,)*100,2)\n",
    "                             }"
   ]
  },
  {
   "cell_type": "code",
   "execution_count": 40,
   "id": "3bcedf86-70e3-4be8-b93b-b4442fc073ea",
   "metadata": {
    "tags": []
   },
   "outputs": [
    {
     "data": {
      "text/html": [
       "<div>\n",
       "<style scoped>\n",
       "    .dataframe tbody tr th:only-of-type {\n",
       "        vertical-align: middle;\n",
       "    }\n",
       "\n",
       "    .dataframe tbody tr th {\n",
       "        vertical-align: top;\n",
       "    }\n",
       "\n",
       "    .dataframe thead th {\n",
       "        text-align: right;\n",
       "    }\n",
       "</style>\n",
       "<table border=\"1\" class=\"dataframe\">\n",
       "  <thead>\n",
       "    <tr style=\"text-align: right;\">\n",
       "      <th></th>\n",
       "      <th>Test ACC</th>\n",
       "      <th>Recall</th>\n",
       "      <th>Precision</th>\n",
       "      <th>F1-Score</th>\n",
       "      <th>ROC_AUC</th>\n",
       "    </tr>\n",
       "  </thead>\n",
       "  <tbody>\n",
       "    <tr>\n",
       "      <th>GNB</th>\n",
       "      <td>83.21</td>\n",
       "      <td>42.42</td>\n",
       "      <td>33.73</td>\n",
       "      <td>37.58</td>\n",
       "      <td>65.58</td>\n",
       "    </tr>\n",
       "    <tr>\n",
       "      <th>XBG</th>\n",
       "      <td>88.27</td>\n",
       "      <td>24.24</td>\n",
       "      <td>51.61</td>\n",
       "      <td>32.99</td>\n",
       "      <td>60.58</td>\n",
       "    </tr>\n",
       "    <tr>\n",
       "      <th>GBC</th>\n",
       "      <td>88.09</td>\n",
       "      <td>24.24</td>\n",
       "      <td>50.00</td>\n",
       "      <td>32.65</td>\n",
       "      <td>60.48</td>\n",
       "    </tr>\n",
       "    <tr>\n",
       "      <th>DT</th>\n",
       "      <td>79.24</td>\n",
       "      <td>34.85</td>\n",
       "      <td>24.21</td>\n",
       "      <td>28.57</td>\n",
       "      <td>60.05</td>\n",
       "    </tr>\n",
       "    <tr>\n",
       "      <th>CB</th>\n",
       "      <td>89.35</td>\n",
       "      <td>18.18</td>\n",
       "      <td>70.59</td>\n",
       "      <td>28.92</td>\n",
       "      <td>58.58</td>\n",
       "    </tr>\n",
       "    <tr>\n",
       "      <th>BNB</th>\n",
       "      <td>85.20</td>\n",
       "      <td>19.70</td>\n",
       "      <td>30.95</td>\n",
       "      <td>24.07</td>\n",
       "      <td>56.88</td>\n",
       "    </tr>\n",
       "    <tr>\n",
       "      <th>RF</th>\n",
       "      <td>88.09</td>\n",
       "      <td>9.09</td>\n",
       "      <td>50.00</td>\n",
       "      <td>15.38</td>\n",
       "      <td>53.93</td>\n",
       "    </tr>\n",
       "    <tr>\n",
       "      <th>LR</th>\n",
       "      <td>88.09</td>\n",
       "      <td>0.00</td>\n",
       "      <td>0.00</td>\n",
       "      <td>0.00</td>\n",
       "      <td>50.00</td>\n",
       "    </tr>\n",
       "    <tr>\n",
       "      <th>SVC</th>\n",
       "      <td>88.09</td>\n",
       "      <td>0.00</td>\n",
       "      <td>0.00</td>\n",
       "      <td>0.00</td>\n",
       "      <td>50.00</td>\n",
       "    </tr>\n",
       "    <tr>\n",
       "      <th>KNN</th>\n",
       "      <td>88.09</td>\n",
       "      <td>0.00</td>\n",
       "      <td>0.00</td>\n",
       "      <td>0.00</td>\n",
       "      <td>50.00</td>\n",
       "    </tr>\n",
       "  </tbody>\n",
       "</table>\n",
       "</div>"
      ],
      "text/plain": [
       "     Test ACC  Recall  Precision  F1-Score  ROC_AUC\n",
       "GNB     83.21   42.42      33.73     37.58    65.58\n",
       "XBG     88.27   24.24      51.61     32.99    60.58\n",
       "GBC     88.09   24.24      50.00     32.65    60.48\n",
       "DT      79.24   34.85      24.21     28.57    60.05\n",
       "CB      89.35   18.18      70.59     28.92    58.58\n",
       "BNB     85.20   19.70      30.95     24.07    56.88\n",
       "RF      88.09    9.09      50.00     15.38    53.93\n",
       "LR      88.09    0.00       0.00      0.00    50.00\n",
       "SVC     88.09    0.00       0.00      0.00    50.00\n",
       "KNN     88.09    0.00       0.00      0.00    50.00"
      ]
     },
     "execution_count": 40,
     "metadata": {},
     "output_type": "execute_result"
    }
   ],
   "source": [
    "model_comp1 = pd.DataFrame(model_dict1).T\n",
    "model_comp1.sort_values('ROC_AUC',ascending=False)"
   ]
  },
  {
   "cell_type": "code",
   "execution_count": 47,
   "id": "4eb5da12-c1c8-40d6-a642-9d4479a3fcda",
   "metadata": {
    "tags": []
   },
   "outputs": [],
   "source": [
    "gnb = GaussianNB()\n",
    "gnb.fit(X_train,y_train.ravel())\n",
    "final_preds = gnb.predict(X_test)"
   ]
  },
  {
   "cell_type": "code",
   "execution_count": 48,
   "id": "d1fa9e1f-9a86-4098-8fc6-75a68a956a67",
   "metadata": {
    "tags": []
   },
   "outputs": [
    {
     "data": {
      "text/plain": [
       "array([1, 0, 0, ..., 0, 0, 0], dtype=int64)"
      ]
     },
     "execution_count": 48,
     "metadata": {},
     "output_type": "execute_result"
    }
   ],
   "source": [
    "final_preds"
   ]
  },
  {
   "cell_type": "code",
   "execution_count": 49,
   "id": "d5a389ff-adc7-46b9-8e0c-2e8e17e3fc43",
   "metadata": {
    "tags": []
   },
   "outputs": [],
   "source": []
  },
  {
   "cell_type": "code",
   "execution_count": null,
   "id": "1da4816f-0f03-4871-ba02-64849714d42e",
   "metadata": {
    "tags": []
   },
   "outputs": [],
   "source": []
  },
  {
   "cell_type": "code",
   "execution_count": null,
   "id": "8dac6aad-a6bf-4cf8-8973-d6c9d6faff9e",
   "metadata": {},
   "outputs": [],
   "source": []
  }
 ],
 "metadata": {
  "kernelspec": {
   "display_name": "Python 3 (ipykernel)",
   "language": "python",
   "name": "python3"
  },
  "language_info": {
   "codemirror_mode": {
    "name": "ipython",
    "version": 3
   },
   "file_extension": ".py",
   "mimetype": "text/x-python",
   "name": "python",
   "nbconvert_exporter": "python",
   "pygments_lexer": "ipython3",
   "version": "3.10.4"
  }
 },
 "nbformat": 4,
 "nbformat_minor": 5
}
